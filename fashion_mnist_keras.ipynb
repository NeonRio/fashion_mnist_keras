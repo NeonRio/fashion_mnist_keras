{
  "nbformat": 4,
  "nbformat_minor": 0,
  "metadata": {
    "colab": {
      "name": "fashion_mnist_keras.ipynb",
      "provenance": [],
      "collapsed_sections": [],
      "authorship_tag": "ABX9TyOMzHCv72e1CFGGppt6h/jb",
      "include_colab_link": true
    },
    "kernelspec": {
      "name": "python3",
      "display_name": "Python 3"
    },
    "language_info": {
      "name": "python"
    },
    "accelerator": "GPU"
  },
  "cells": [
    {
      "cell_type": "markdown",
      "metadata": {
        "id": "view-in-github",
        "colab_type": "text"
      },
      "source": [
        "<a href=\"https://colab.research.google.com/github/NeonRio/fashion_mnist_keras/blob/main/fashion_mnist_keras.ipynb\" target=\"_parent\"><img src=\"https://colab.research.google.com/assets/colab-badge.svg\" alt=\"Open In Colab\"/></a>"
      ]
    },
    {
      "cell_type": "markdown",
      "metadata": {
        "id": "MX0sFwP1yugJ"
      },
      "source": [
        "# This is fashion mnist data recognition project using keras"
      ]
    },
    {
      "cell_type": "markdown",
      "metadata": {
        "id": "EvJRf1Wpy1Nh"
      },
      "source": [
        "## Lets import dependencies that that we need"
      ]
    },
    {
      "cell_type": "code",
      "metadata": {
        "id": "vNkh7W6nRZaO"
      },
      "source": [
        "import tensorflow as tf\n",
        "from tensorflow import keras\n",
        "from keras.models import Sequential\n",
        "from keras.layers import Dense, Conv2D, MaxPool2D, Flatten\n",
        "from keras.optimizers import Adam\n",
        "from keras.losses import categorical_crossentropy\n",
        "from keras.datasets import fashion_mnist\n",
        "import numpy as np\n",
        "\n",
        "import matplotlib.pyplot as plt\n",
        "%matplotlib inline"
      ],
      "execution_count": null,
      "outputs": []
    },
    {
      "cell_type": "markdown",
      "metadata": {
        "id": "ts5rRfUTy6eF"
      },
      "source": [
        "## Data preprocessing"
      ]
    },
    {
      "cell_type": "code",
      "metadata": {
        "id": "Eu0KUK8RRpVF"
      },
      "source": [
        "(x_train, y_train), (x_test, y_test) = fashion_mnist.load_data()"
      ],
      "execution_count": null,
      "outputs": []
    },
    {
      "cell_type": "code",
      "metadata": {
        "id": "HZ-GJcjORzsv"
      },
      "source": [
        "x_train = keras.utils.normalize(x_train)\n",
        "x_test = keras.utils.normalize(x_test)\n",
        "y_train = keras.utils.to_categorical(y_train)\n",
        "y_test = keras.utils.to_categorical(y_test)"
      ],
      "execution_count": null,
      "outputs": []
    },
    {
      "cell_type": "code",
      "metadata": {
        "id": "4xsO0ij6djoy"
      },
      "source": [
        "x_train = x_train.reshape(x_train.shape[0], 28, 28, 1)\n",
        "x_test = x_test.reshape(x_test.shape[0], 28, 28, 1)\n",
        "\n",
        "x_train = x_train.astype('float32')\n",
        "x_test = x_test.astype('float32')"
      ],
      "execution_count": null,
      "outputs": []
    },
    {
      "cell_type": "markdown",
      "metadata": {
        "id": "aZNDTpQny_16"
      },
      "source": [
        "## Model creation part\n",
        "our model will have 2 Conv2D layers and 2 Dense layers"
      ]
    },
    {
      "cell_type": "code",
      "metadata": {
        "id": "i0AU8XhnSqGI"
      },
      "source": [
        "model = Sequential([\n",
        "      Conv2D(filters=32,kernel_size=(3,3), padding='same', activation='relu', input_shape=(28,28,1)),\n",
        "      MaxPool2D(pool_size=(2,2), strides=2),\n",
        "      Conv2D(64,kernel_size=(3,3), padding='same', activation='relu'),\n",
        "      MaxPool2D(pool_size=(2,2), strides=2),\n",
        "      Flatten(input_shape=(28,28,1)),\n",
        "      Dense(units=100,activation='relu'),\n",
        "      Dense(units=10,activation='softmax'),\n",
        "])"
      ],
      "execution_count": null,
      "outputs": []
    },
    {
      "cell_type": "code",
      "metadata": {
        "id": "suG9n5bLWGGg"
      },
      "source": [
        "model.compile(optimizer='Adam',loss='mean_squared_error',metrics=['accuracy'])"
      ],
      "execution_count": null,
      "outputs": []
    },
    {
      "cell_type": "code",
      "metadata": {
        "colab": {
          "base_uri": "https://localhost:8080/"
        },
        "id": "HS1BajRWYtuZ",
        "outputId": "2ae6bb1f-1190-4e8a-db05-bc6482085b54"
      },
      "source": [
        "model.summary()"
      ],
      "execution_count": null,
      "outputs": [
        {
          "output_type": "stream",
          "text": [
            "Model: \"sequential\"\n",
            "_________________________________________________________________\n",
            "Layer (type)                 Output Shape              Param #   \n",
            "=================================================================\n",
            "conv2d (Conv2D)              (None, 28, 28, 32)        320       \n",
            "_________________________________________________________________\n",
            "max_pooling2d (MaxPooling2D) (None, 14, 14, 32)        0         \n",
            "_________________________________________________________________\n",
            "conv2d_1 (Conv2D)            (None, 14, 14, 64)        18496     \n",
            "_________________________________________________________________\n",
            "max_pooling2d_1 (MaxPooling2 (None, 7, 7, 64)          0         \n",
            "_________________________________________________________________\n",
            "flatten (Flatten)            (None, 3136)              0         \n",
            "_________________________________________________________________\n",
            "dense (Dense)                (None, 100)               313700    \n",
            "_________________________________________________________________\n",
            "dense_1 (Dense)              (None, 10)                1010      \n",
            "=================================================================\n",
            "Total params: 333,526\n",
            "Trainable params: 333,526\n",
            "Non-trainable params: 0\n",
            "_________________________________________________________________\n"
          ],
          "name": "stdout"
        }
      ]
    },
    {
      "cell_type": "markdown",
      "metadata": {
        "id": "4sjnXBKlzL_X"
      },
      "source": [
        "### Model training"
      ]
    },
    {
      "cell_type": "code",
      "metadata": {
        "colab": {
          "base_uri": "https://localhost:8080/"
        },
        "id": "ML6JrwULXMLY",
        "outputId": "85ed9efa-d902-4847-cb86-463380e5c6b0"
      },
      "source": [
        "model.fit(x=x_train, y=y_train, epochs=10, validation_data=(x_test,y_test))"
      ],
      "execution_count": null,
      "outputs": [
        {
          "output_type": "stream",
          "text": [
            "Epoch 1/10\n",
            "1875/1875 [==============================] - 27s 6ms/step - loss: 0.0289 - accuracy: 0.7904 - val_loss: 0.0181 - val_accuracy: 0.8734\n",
            "Epoch 2/10\n",
            "1875/1875 [==============================] - 11s 6ms/step - loss: 0.0157 - accuracy: 0.8916 - val_loss: 0.0160 - val_accuracy: 0.8870\n",
            "Epoch 3/10\n",
            "1875/1875 [==============================] - 12s 6ms/step - loss: 0.0130 - accuracy: 0.9125 - val_loss: 0.0141 - val_accuracy: 0.9017\n",
            "Epoch 4/10\n",
            "1875/1875 [==============================] - 11s 6ms/step - loss: 0.0118 - accuracy: 0.9199 - val_loss: 0.0136 - val_accuracy: 0.9081\n",
            "Epoch 5/10\n",
            "1875/1875 [==============================] - 11s 6ms/step - loss: 0.0103 - accuracy: 0.9312 - val_loss: 0.0136 - val_accuracy: 0.9088\n",
            "Epoch 6/10\n",
            "1875/1875 [==============================] - 12s 6ms/step - loss: 0.0091 - accuracy: 0.9404 - val_loss: 0.0125 - val_accuracy: 0.9162\n",
            "Epoch 7/10\n",
            "1875/1875 [==============================] - 12s 6ms/step - loss: 0.0079 - accuracy: 0.9483 - val_loss: 0.0127 - val_accuracy: 0.9153\n",
            "Epoch 8/10\n",
            "1875/1875 [==============================] - 12s 6ms/step - loss: 0.0072 - accuracy: 0.9530 - val_loss: 0.0125 - val_accuracy: 0.9154\n",
            "Epoch 9/10\n",
            "1875/1875 [==============================] - 11s 6ms/step - loss: 0.0063 - accuracy: 0.9593 - val_loss: 0.0128 - val_accuracy: 0.9139\n",
            "Epoch 10/10\n",
            "1875/1875 [==============================] - 11s 6ms/step - loss: 0.0057 - accuracy: 0.9637 - val_loss: 0.0127 - val_accuracy: 0.9155\n"
          ],
          "name": "stdout"
        },
        {
          "output_type": "execute_result",
          "data": {
            "text/plain": [
              "<keras.callbacks.History at 0x7f1650651710>"
            ]
          },
          "metadata": {
            "tags": []
          },
          "execution_count": 10
        }
      ]
    },
    {
      "cell_type": "markdown",
      "metadata": {
        "id": "xwKiLAzfzRAV"
      },
      "source": [
        "### Efficiency test\n",
        "We have over 90 percent efficiency. Thats cool."
      ]
    },
    {
      "cell_type": "code",
      "metadata": {
        "colab": {
          "base_uri": "https://localhost:8080/"
        },
        "id": "a2GY2KsqYCLS",
        "outputId": "32edbcc4-29f2-4deb-e8be-60f62e6ebe07"
      },
      "source": [
        "test_loss, test_accuracy = model.evaluate(x=x_test,y=y_test,batch_size=10)\n",
        "test_loss, test_accuracy = test_loss*100, test_accuracy*100\n",
        "test_loss, test_accuracy = np.round(test_loss,2), np.round(test_accuracy,2)\n",
        "print(\"Efficiency: \", test_accuracy , \"%\")"
      ],
      "execution_count": null,
      "outputs": [
        {
          "output_type": "stream",
          "text": [
            "1000/1000 [==============================] - 3s 3ms/step - loss: 0.0127 - accuracy: 0.9155\n",
            "Efficiency:  91.55 %\n"
          ],
          "name": "stdout"
        }
      ]
    },
    {
      "cell_type": "code",
      "metadata": {
        "id": "Yv85BABlmdJK"
      },
      "source": [
        "labels = {\n",
        "    0: \t\"T-shirt/top\",\n",
        "    1: \t\"Trouser\",\n",
        "    2: \t\"Pullover\",\n",
        "    3: \t\"Dress\",\n",
        "    4: \t\"Coat\",\n",
        "    5: \t\"Sandal\",\n",
        "    6: \t\"Shirt\",\n",
        "    7: \t\"Sneaker\",\n",
        "    8: \t\"Bag\",\n",
        "    9: \t\"Ankle boot\"\n",
        "}"
      ],
      "execution_count": null,
      "outputs": []
    },
    {
      "cell_type": "code",
      "metadata": {
        "id": "Zscl_i3AnYIq"
      },
      "source": [
        "random_fashion = x_test[np.random.randint(0,len(x_test))]"
      ],
      "execution_count": null,
      "outputs": []
    },
    {
      "cell_type": "code",
      "metadata": {
        "colab": {
          "base_uri": "https://localhost:8080/",
          "height": 283
        },
        "id": "7KZBftAKYYoJ",
        "outputId": "b9f93bbc-3828-46e5-f92b-a5441c8ac690"
      },
      "source": [
        "plt.imshow(random_fashion[:,:,0],cmap=\"gray_r\")"
      ],
      "execution_count": null,
      "outputs": [
        {
          "output_type": "execute_result",
          "data": {
            "text/plain": [
              "<matplotlib.image.AxesImage at 0x7f15b11976d0>"
            ]
          },
          "metadata": {
            "tags": []
          },
          "execution_count": 25
        },
        {
          "output_type": "display_data",
          "data": {
            "image/png": "[encoded data removed]",
            "text/plain": [
              "<Figure size 432x288 with 1 Axes>"
            ]
          },
          "metadata": {
            "tags": [],
            "needs_background": "light"
          }
        }
      ]
    },
    {
      "cell_type": "code",
      "metadata": {
        "colab": {
          "base_uri": "https://localhost:8080/",
          "height": 36
        },
        "id": "9C-hwkkJmW1F",
        "outputId": "0a3e5ec7-3503-4e67-db31-9a0e2ba0a776"
      },
      "source": [
        "element = np.array([random_fashion])\n",
        "labels[np.argmax(model.predict(element))]"
      ],
      "execution_count": null,
      "outputs": [
        {
          "output_type": "execute_result",
          "data": {
            "application/vnd.google.colaboratory.intrinsic+json": {
              "type": "string"
            },
            "text/plain": [
              "'Trouser'"
            ]
          },
          "metadata": {
            "tags": []
          },
          "execution_count": 27
        }
      ]
    },
    {
      "cell_type": "markdown",
      "metadata": {
        "id": "mhkfCowyzZL8"
      },
      "source": [
        "**As we can see our model is working**"
      ]
    }
  ]
}